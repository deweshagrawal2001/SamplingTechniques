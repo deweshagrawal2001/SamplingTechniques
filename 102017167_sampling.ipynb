{
 "cells": [
  {
   "attachments": {},
   "cell_type": "markdown",
   "metadata": {},
   "source": [
    "# Sampling_Assignment\n"
   ]
  },
  {
   "cell_type": "code",
   "execution_count": 169,
   "metadata": {},
   "outputs": [],
   "source": [
    "import numpy as np\n",
    "import pandas as pd\n",
    "import random \n",
    "import math\n",
    "from random import randint\n",
    "from sklearn.model_selection import train_test_split\n",
    "from sklearn.preprocessing import StandardScaler\n",
    "from statsmodels.stats.power import TTestIndPower\n",
    "from sklearn.metrics import accuracy_score\n",
    "from xgboost import XGBClassifier\n",
    "from sklearn.ensemble import RandomForestClassifier\n",
    "from sklearn.tree import DecisionTreeClassifier\n",
    "from sklearn.naive_bayes import GaussianNB\n",
    "from sklearn.svm import SVC\n",
    "from imblearn.over_sampling import RandomOverSampler\n",
    "from lightgbm import LGBMClassifier"
   ]
  },
  {
   "attachments": {},
   "cell_type": "markdown",
   "metadata": {},
   "source": [
    "## Loading Dataset"
   ]
  },
  {
   "cell_type": "code",
   "execution_count": 170,
   "metadata": {},
   "outputs": [],
   "source": [
    "data = pd.read_csv('Creditcard_data.csv')\n",
    "df = data.copy()\n",
    "y = df['Class']\n",
    "X = df.drop('Class',axis = 1)\n",
    "s = StandardScaler()\n",
    "X['Amount'] = s.fit_transform(X['Amount'].values.reshape(-1,1))"
   ]
  },
  {
   "attachments": {},
   "cell_type": "markdown",
   "metadata": {},
   "source": [
    "## Using "
   ]
  },
  {
   "cell_type": "code",
   "execution_count": 171,
   "metadata": {},
   "outputs": [],
   "source": [
    "ros = RandomOverSampler(random_state=42)\n",
    "X,y = ros.fit_resample(X,y)\n",
    "new_df = pd.concat([X,y],axis = 1)\n",
    "# print(new_df)"
   ]
  },
  {
   "cell_type": "code",
   "execution_count": 172,
   "metadata": {},
   "outputs": [],
   "source": [
    "def Systematic(df,step):\n",
    "    ind = np.arange(0,len(df),step = len(df)/step)\n",
    "    Syst = df.iloc[ind]\n",
    "    # print(Syst)\n",
    "    new_y = Syst['Class']\n",
    "    new_x = Syst.drop('Class',axis = 1)\n",
    "    x_train,x_test,y_train,y_test = train_test_split(new_x,new_y,test_size=0.3,random_state=42)\n",
    "    model1 = XGBClassifier()\n",
    "    model2 = DecisionTreeClassifier()\n",
    "    model3 = LGBMClassifier()\n",
    "    model4 = SVC()\n",
    "    model5 = GaussianNB()\n",
    "    m = [model1,model2,model3,model4,model5]\n",
    "    acc = []\n",
    "    for i in range(0,5):\n",
    "        new_model = m[i]\n",
    "        new_model.fit(x_train,y_train)\n",
    "        y_pred = new_model.predict(x_test)\n",
    "        acc.append(accuracy_score(y_pred,y_test))\n",
    "    return acc "
   ]
  },
  {
   "cell_type": "code",
   "execution_count": 173,
   "metadata": {},
   "outputs": [],
   "source": [
    "def SimpleRandom(df):\n",
    "    np.random.seed(0)\n",
    "    z = 1.96\n",
    "    p = 0.5\n",
    "    e = 0.05\n",
    "    s_size = math.floor((pow(z,2)*p*(1-p))/pow(e,2))\n",
    "    # print(s_size)\n",
    "    ran_sam = df.sample(n = s_size,random_state = 0)\n",
    "    # print(ran_sam)\n",
    "    new_y = ran_sam['Class']\n",
    "    new_x = ran_sam.drop('Class',axis = 1)\n",
    "    x_train,x_test,y_train,y_test = train_test_split(new_x,new_y,test_size=0.25,random_state=42)\n",
    "    model1 = XGBClassifier()\n",
    "    model2 = DecisionTreeClassifier()\n",
    "    model3 = LGBMClassifier()\n",
    "    model4 = SVC()\n",
    "    model5 = GaussianNB()\n",
    "    m = [model1,model2,model3,model4,model5]\n",
    "    acc = []\n",
    "    for i in range(0,5):\n",
    "        new_model = m[i]\n",
    "        new_model.fit(x_train,y_train)\n",
    "        y_pred = new_model.predict(x_test)\n",
    "        acc.append(accuracy_score(y_pred,y_test))\n",
    "    return acc \n",
    "    "
   ]
  },
  {
   "cell_type": "code",
   "execution_count": 174,
   "metadata": {},
   "outputs": [],
   "source": [
    "def Stratified(df):\n",
    "    z = 1.96\n",
    "    p = 0.5\n",
    "    e = 0.05\n",
    "    s_size = (math.floor(((pow(z,2))*p*(1-p))/pow(e/2,2)))\n",
    "    Strat_df = df.groupby('Class', group_keys=False).apply(lambda x: x.sample(n = int(s_size/4)))\n",
    "    # print(Strat_df)\n",
    "    new_y = Strat_df['Class']\n",
    "    new_x = Strat_df.drop('Class',axis = 1)\n",
    "    x_train,x_test,y_train,y_test = train_test_split(new_x,new_y,test_size=0.25,random_state=42)\n",
    "    model1 = XGBClassifier()\n",
    "    model2 = DecisionTreeClassifier()\n",
    "    model3 = LGBMClassifier()\n",
    "    model4 = SVC()\n",
    "    model5 = GaussianNB()\n",
    "    m = [model1,model2,model3,model4,model5]\n",
    "    acc = []\n",
    "    for i in range(0,5):\n",
    "        new_model = m[i]\n",
    "        new_model.fit(x_train,y_train)\n",
    "        y_pred = new_model.predict(x_test)\n",
    "        acc.append(accuracy_score(y_pred,y_test))\n",
    "    return acc "
   ]
  },
  {
   "cell_type": "code",
   "execution_count": 175,
   "metadata": {},
   "outputs": [],
   "source": [
    "def get_clustered_Sample(df):\n",
    "    n_per_cluster = 100\n",
    "    num_select_clusters = 5\n",
    "    K = 10\n",
    "    # print(K)\n",
    "\n",
    "    samplex=pd.DataFrame()\n",
    "    clusters=[]\n",
    "    for i in range(K):\n",
    "        clusters.append(df.sample(n_per_cluster))\n",
    "    \n",
    "    # while (samplex.shape[0])!=num_select_clusters:\n",
    "    for i in range(num_select_clusters):\n",
    "        h=np.random.randint(1,10)\n",
    "        samplex=pd.concat([samplex,clusters[h]],axis=0)\n",
    "\n",
    "    new_y = samplex['Class']\n",
    "    new_x = samplex.drop('Class',axis = 1)\n",
    "    x_train,x_test,y_train,y_test = train_test_split(new_x,new_y,test_size=0.25,random_state=42)\n",
    "    model1 = XGBClassifier()\n",
    "    model2 = DecisionTreeClassifier()\n",
    "    model3 = LGBMClassifier()\n",
    "    model4 = SVC()\n",
    "    model5 = GaussianNB()\n",
    "    m = [model1,model2,model3,model4,model5]\n",
    "    acc = []\n",
    "    for i in range(0,5):\n",
    "        new_model = m[i]\n",
    "        new_model.fit(x_train,y_train)\n",
    "        y_pred = new_model.predict(x_test)\n",
    "        acc.append(accuracy_score(y_pred,y_test))\n",
    "    return acc "
   ]
  },
  {
   "cell_type": "code",
   "execution_count": 176,
   "metadata": {},
   "outputs": [],
   "source": [
    "def Multistage(df):\n",
    "   z = 1.96\n",
    "   p = 0.5\n",
    "   e = 0.05\n",
    "   s_size = math.floor((pow(z,2)*p*(1-p))/pow(e,2))\n",
    "   s = [0,1]\n",
    "   a = np.random.choice(s,384)\n",
    "   sam = pd.DataFrame()\n",
    "   for i in a:\n",
    "      sam = df[df['Class'].isin(a)].sample(n = s_size,replace = False)\n",
    "   new_y = sam['Class']\n",
    "   new_x = sam.drop('Class',axis = 1)\n",
    "   x_train,x_test,y_train,y_test = train_test_split(new_x,new_y,test_size=0.25,random_state=42)\n",
    "   model1 = XGBClassifier()\n",
    "   model2 = DecisionTreeClassifier()\n",
    "   model3 = LGBMClassifier()\n",
    "   model4 = SVC()\n",
    "   model5 = GaussianNB()\n",
    "   m = [model1,model2,model3,model4,model5]\n",
    "   acc = []\n",
    "   for i in range(0,5):\n",
    "      new_model = m[i]\n",
    "      new_model.fit(x_train,y_train)\n",
    "      y_pred = new_model.predict(x_test)\n",
    "      acc.append(accuracy_score(y_pred,y_test))\n",
    "   return acc \n",
    "   \n",
    "   "
   ]
  },
  {
   "cell_type": "code",
   "execution_count": 177,
   "metadata": {},
   "outputs": [],
   "source": [
    "n = 1526\n",
    "e = 0.05\n",
    "step = math.floor(n/(1+(n*pow(e,2))))\n",
    "acc1 = Systematic(new_df,step)\n",
    "acc2 = SimpleRandom(new_df)\n",
    "acc3 = Stratified(new_df)\n",
    "acc4 = get_clustered_Sample(new_df)\n",
    "acc5 = Multistage(new_df)\n"
   ]
  },
  {
   "cell_type": "code",
   "execution_count": 178,
   "metadata": {},
   "outputs": [
    {
     "name": "stdout",
     "output_type": "stream",
     "text": [
      "                        Systematic  Simple_Random  Stratified  Cluster  \\\n",
      "XGBClassifier             0.968421       0.989583    0.994792    0.968   \n",
      "DecisionTreeClassifier    0.968421       0.947917    0.979167    0.960   \n",
      "LGBMClassifier            0.989474       0.979167    0.994792    0.976   \n",
      "SVM                       0.684211       0.656250    0.671875    0.640   \n",
      "Gaussian_Naive_Bayes      0.757895       0.781250    0.781250    0.712   \n",
      "\n",
      "                        Multi-Stage  \n",
      "XGBClassifier              0.979167  \n",
      "DecisionTreeClassifier     0.958333  \n",
      "LGBMClassifier             0.989583  \n",
      "SVM                        0.572917  \n",
      "Gaussian_Naive_Bayes       0.531250  \n"
     ]
    }
   ],
   "source": [
    "final_df = pd.DataFrame(list(zip(acc1,acc2,acc3,acc4,acc5)),columns = ['Systematic','Simple_Random','Stratified','Cluster','Multi-Stage'])\n",
    "final_df.index = ['XGBClassifier','DecisionTreeClassifier','LGBMClassifier','SVM','Gaussian_Naive_Bayes']\n",
    "print(final_df)"
   ]
  }
 ],
 "metadata": {
  "kernelspec": {
   "display_name": "Python 3",
   "language": "python",
   "name": "python3"
  },
  "language_info": {
   "codemirror_mode": {
    "name": "ipython",
    "version": 3
   },
   "file_extension": ".py",
   "mimetype": "text/x-python",
   "name": "python",
   "nbconvert_exporter": "python",
   "pygments_lexer": "ipython3",
   "version": "3.10.6"
  },
  "orig_nbformat": 4,
  "vscode": {
   "interpreter": {
    "hash": "38519c3442d9f767135b0650f6935cb54106bd9267700919f92a37291a156600"
   }
  }
 },
 "nbformat": 4,
 "nbformat_minor": 2
}
